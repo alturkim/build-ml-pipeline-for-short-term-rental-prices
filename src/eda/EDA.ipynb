{
 "cells": [
  {
   "cell_type": "markdown",
   "id": "566c7137-a476-4e2e-bed1-3ed52b51178e",
   "metadata": {},
   "source": [
    "# Initializing WandB project and Reading The Data"
   ]
  },
  {
   "cell_type": "code",
   "execution_count": 1,
   "id": "4b4025cf-1883-454c-bcfa-cbe97b11d641",
   "metadata": {},
   "outputs": [
    {
     "name": "stderr",
     "output_type": "stream",
     "text": [
      "\u001b[34m\u001b[1mwandb\u001b[0m: Currently logged in as: \u001b[33malturkim\u001b[0m. Use \u001b[1m`wandb login --relogin`\u001b[0m to force relogin\n"
     ]
    },
    {
     "data": {
      "application/vnd.jupyter.widget-view+json": {
       "model_id": "5dd35bed703e4ae5bd7cf588818c7c10",
       "version_major": 2,
       "version_minor": 0
      },
      "text/plain": [
       "VBox(children=(Label(value='Waiting for wandb.init()...\\r'), FloatProgress(value=0.016669936666827805, max=1.0…"
      ]
     },
     "metadata": {},
     "output_type": "display_data"
    },
    {
     "data": {
      "text/html": [
       "wandb version 0.15.8 is available!  To upgrade, please run:\n",
       " $ pip install wandb --upgrade"
      ],
      "text/plain": [
       "<IPython.core.display.HTML object>"
      ]
     },
     "metadata": {},
     "output_type": "display_data"
    },
    {
     "data": {
      "text/html": [
       "Tracking run with wandb version 0.15.5"
      ],
      "text/plain": [
       "<IPython.core.display.HTML object>"
      ]
     },
     "metadata": {},
     "output_type": "display_data"
    },
    {
     "data": {
      "text/html": [
       "Run data is saved locally in <code>/workspaces/mustt/Desktop/MyDesktop/Learning/MLDevOpsND/course2/build-ml-pipeline-for-short-term-rental-prices/src/eda/wandb/run-20230808_122139-0lad7wy2</code>"
      ],
      "text/plain": [
       "<IPython.core.display.HTML object>"
      ]
     },
     "metadata": {},
     "output_type": "display_data"
    },
    {
     "data": {
      "text/html": [
       "Syncing run <strong><a href='https://wandb.ai/alturkim/nyc_airbnb/runs/0lad7wy2' target=\"_blank\">whole-sun-48</a></strong> to <a href='https://wandb.ai/alturkim/nyc_airbnb' target=\"_blank\">Weights & Biases</a> (<a href='https://wandb.me/run' target=\"_blank\">docs</a>)<br/>"
      ],
      "text/plain": [
       "<IPython.core.display.HTML object>"
      ]
     },
     "metadata": {},
     "output_type": "display_data"
    },
    {
     "data": {
      "text/html": [
       " View project at <a href='https://wandb.ai/alturkim/nyc_airbnb' target=\"_blank\">https://wandb.ai/alturkim/nyc_airbnb</a>"
      ],
      "text/plain": [
       "<IPython.core.display.HTML object>"
      ]
     },
     "metadata": {},
     "output_type": "display_data"
    },
    {
     "data": {
      "text/html": [
       " View run at <a href='https://wandb.ai/alturkim/nyc_airbnb/runs/0lad7wy2' target=\"_blank\">https://wandb.ai/alturkim/nyc_airbnb/runs/0lad7wy2</a>"
      ],
      "text/plain": [
       "<IPython.core.display.HTML object>"
      ]
     },
     "metadata": {},
     "output_type": "display_data"
    }
   ],
   "source": [
    "# import necessary libraries\n",
    "import wandb\n",
    "import pandas as pd\n",
    "\n",
    "# initialize wandb project, group the runs under the \"eda\"\n",
    "run = wandb.init(project=\"nyc_airbnb\", group=\"eda\", save_code=True)\n",
    "# download the data from the artifact store\n",
    "local_path = wandb.use_artifact(\"alturkim/nyc_airbnb/sample.csv:latest\").file()\n",
    "# read the downloaded data\n",
    "df = pd.read_csv(local_path)"
   ]
  },
  {
   "cell_type": "markdown",
   "id": "7273f2c3-08ea-4f63-8d16-995fd00e7a29",
   "metadata": {},
   "source": [
    "# Generate a ydata_profiling profile\n",
    "We start by generating an automatic report using ydata_profiling, this helps deciding the necessary cleaning and preprocessing steps to be done later."
   ]
  },
  {
   "cell_type": "code",
   "execution_count": 2,
   "id": "771d1cc2-4e34-4032-ab97-45d0d34c7825",
   "metadata": {},
   "outputs": [
    {
     "data": {
      "application/vnd.jupyter.widget-view+json": {
       "model_id": "317b7b6824484fc895c32844321d43b5",
       "version_major": 2,
       "version_minor": 0
      },
      "text/plain": [
       "Summarize dataset:   0%|          | 0/5 [00:00<?, ?it/s]"
      ]
     },
     "metadata": {},
     "output_type": "display_data"
    },
    {
     "data": {
      "application/vnd.jupyter.widget-view+json": {
       "model_id": "bfe8d5b3177243b39ea87db2f0cd40c4",
       "version_major": 2,
       "version_minor": 0
      },
      "text/plain": [
       "Generate report structure:   0%|          | 0/1 [00:00<?, ?it/s]"
      ]
     },
     "metadata": {},
     "output_type": "display_data"
    },
    {
     "data": {
      "application/vnd.jupyter.widget-view+json": {
       "model_id": "",
       "version_major": 2,
       "version_minor": 0
      },
      "text/plain": [
       "Render widgets:   0%|          | 0/1 [00:00<?, ?it/s]"
      ]
     },
     "metadata": {},
     "output_type": "display_data"
    },
    {
     "data": {
      "text/html": [
       "<div>\n",
       "<style scoped>\n",
       "    .dataframe tbody tr th:only-of-type {\n",
       "        vertical-align: middle;\n",
       "    }\n",
       "\n",
       "    .dataframe tbody tr th {\n",
       "        vertical-align: top;\n",
       "    }\n",
       "\n",
       "    .dataframe thead th {\n",
       "        text-align: right;\n",
       "    }\n",
       "</style>\n",
       "<table border=\"1\" class=\"dataframe\">\n",
       "  <thead>\n",
       "    <tr style=\"text-align: right;\">\n",
       "      <th></th>\n",
       "      <th>id</th>\n",
       "      <th>host_id</th>\n",
       "      <th>latitude</th>\n",
       "      <th>longitude</th>\n",
       "      <th>price</th>\n",
       "      <th>minimum_nights</th>\n",
       "      <th>number_of_reviews</th>\n",
       "      <th>reviews_per_month</th>\n",
       "      <th>calculated_host_listings_count</th>\n",
       "      <th>availability_365</th>\n",
       "      <th>neighbourhood_group</th>\n",
       "      <th>room_type</th>\n",
       "    </tr>\n",
       "  </thead>\n",
       "  <tbody>\n",
       "    <tr>\n",
       "      <th>id</th>\n",
       "      <td>1.000000</td>\n",
       "      <td>0.558918</td>\n",
       "      <td>0.004996</td>\n",
       "      <td>0.070697</td>\n",
       "      <td>-0.020739</td>\n",
       "      <td>-0.057798</td>\n",
       "      <td>-0.307933</td>\n",
       "      <td>0.360443</td>\n",
       "      <td>0.135250</td>\n",
       "      <td>0.165714</td>\n",
       "      <td>0.064032</td>\n",
       "      <td>0.070261</td>\n",
       "    </tr>\n",
       "    <tr>\n",
       "      <th>host_id</th>\n",
       "      <td>0.558918</td>\n",
       "      <td>1.000000</td>\n",
       "      <td>0.049621</td>\n",
       "      <td>0.108965</td>\n",
       "      <td>-0.071772</td>\n",
       "      <td>-0.130251</td>\n",
       "      <td>-0.128008</td>\n",
       "      <td>0.267899</td>\n",
       "      <td>0.147273</td>\n",
       "      <td>0.173292</td>\n",
       "      <td>0.100284</td>\n",
       "      <td>0.092129</td>\n",
       "    </tr>\n",
       "    <tr>\n",
       "      <th>latitude</th>\n",
       "      <td>0.004996</td>\n",
       "      <td>0.049621</td>\n",
       "      <td>1.000000</td>\n",
       "      <td>0.035107</td>\n",
       "      <td>0.136172</td>\n",
       "      <td>0.022289</td>\n",
       "      <td>-0.044354</td>\n",
       "      <td>-0.023149</td>\n",
       "      <td>0.003526</td>\n",
       "      <td>-0.006962</td>\n",
       "      <td>0.539251</td>\n",
       "      <td>0.117330</td>\n",
       "    </tr>\n",
       "    <tr>\n",
       "      <th>longitude</th>\n",
       "      <td>0.070697</td>\n",
       "      <td>0.108965</td>\n",
       "      <td>0.035107</td>\n",
       "      <td>1.000000</td>\n",
       "      <td>-0.438035</td>\n",
       "      <td>-0.118921</td>\n",
       "      <td>0.079847</td>\n",
       "      <td>0.119089</td>\n",
       "      <td>0.063523</td>\n",
       "      <td>0.068899</td>\n",
       "      <td>0.654091</td>\n",
       "      <td>0.157505</td>\n",
       "    </tr>\n",
       "    <tr>\n",
       "      <th>price</th>\n",
       "      <td>-0.020739</td>\n",
       "      <td>-0.071772</td>\n",
       "      <td>0.136172</td>\n",
       "      <td>-0.438035</td>\n",
       "      <td>1.000000</td>\n",
       "      <td>0.101289</td>\n",
       "      <td>-0.055009</td>\n",
       "      <td>-0.018527</td>\n",
       "      <td>-0.106083</td>\n",
       "      <td>0.086088</td>\n",
       "      <td>0.018278</td>\n",
       "      <td>0.024730</td>\n",
       "    </tr>\n",
       "    <tr>\n",
       "      <th>minimum_nights</th>\n",
       "      <td>-0.057798</td>\n",
       "      <td>-0.130251</td>\n",
       "      <td>0.022289</td>\n",
       "      <td>-0.118921</td>\n",
       "      <td>0.101289</td>\n",
       "      <td>1.000000</td>\n",
       "      <td>-0.174905</td>\n",
       "      <td>-0.288797</td>\n",
       "      <td>0.064117</td>\n",
       "      <td>0.075981</td>\n",
       "      <td>0.002962</td>\n",
       "      <td>0.011713</td>\n",
       "    </tr>\n",
       "    <tr>\n",
       "      <th>number_of_reviews</th>\n",
       "      <td>-0.307933</td>\n",
       "      <td>-0.128008</td>\n",
       "      <td>-0.044354</td>\n",
       "      <td>0.079847</td>\n",
       "      <td>-0.055009</td>\n",
       "      <td>-0.174905</td>\n",
       "      <td>1.000000</td>\n",
       "      <td>0.706208</td>\n",
       "      <td>0.056054</td>\n",
       "      <td>0.236664</td>\n",
       "      <td>0.027393</td>\n",
       "      <td>0.021426</td>\n",
       "    </tr>\n",
       "    <tr>\n",
       "      <th>reviews_per_month</th>\n",
       "      <td>0.360443</td>\n",
       "      <td>0.267899</td>\n",
       "      <td>-0.023149</td>\n",
       "      <td>0.119089</td>\n",
       "      <td>-0.018527</td>\n",
       "      <td>-0.288797</td>\n",
       "      <td>0.706208</td>\n",
       "      <td>1.000000</td>\n",
       "      <td>0.146484</td>\n",
       "      <td>0.392126</td>\n",
       "      <td>0.047511</td>\n",
       "      <td>0.028754</td>\n",
       "    </tr>\n",
       "    <tr>\n",
       "      <th>calculated_host_listings_count</th>\n",
       "      <td>0.135250</td>\n",
       "      <td>0.147273</td>\n",
       "      <td>0.003526</td>\n",
       "      <td>0.063523</td>\n",
       "      <td>-0.106083</td>\n",
       "      <td>0.064117</td>\n",
       "      <td>0.056054</td>\n",
       "      <td>0.146484</td>\n",
       "      <td>1.000000</td>\n",
       "      <td>0.406606</td>\n",
       "      <td>0.089015</td>\n",
       "      <td>0.097468</td>\n",
       "    </tr>\n",
       "    <tr>\n",
       "      <th>availability_365</th>\n",
       "      <td>0.165714</td>\n",
       "      <td>0.173292</td>\n",
       "      <td>-0.006962</td>\n",
       "      <td>0.068899</td>\n",
       "      <td>0.086088</td>\n",
       "      <td>0.075981</td>\n",
       "      <td>0.236664</td>\n",
       "      <td>0.392126</td>\n",
       "      <td>0.406606</td>\n",
       "      <td>1.000000</td>\n",
       "      <td>0.082514</td>\n",
       "      <td>0.087467</td>\n",
       "    </tr>\n",
       "    <tr>\n",
       "      <th>neighbourhood_group</th>\n",
       "      <td>0.064032</td>\n",
       "      <td>0.100284</td>\n",
       "      <td>0.539251</td>\n",
       "      <td>0.654091</td>\n",
       "      <td>0.018278</td>\n",
       "      <td>0.002962</td>\n",
       "      <td>0.027393</td>\n",
       "      <td>0.047511</td>\n",
       "      <td>0.089015</td>\n",
       "      <td>0.082514</td>\n",
       "      <td>1.000000</td>\n",
       "      <td>0.125965</td>\n",
       "    </tr>\n",
       "    <tr>\n",
       "      <th>room_type</th>\n",
       "      <td>0.070261</td>\n",
       "      <td>0.092129</td>\n",
       "      <td>0.117330</td>\n",
       "      <td>0.157505</td>\n",
       "      <td>0.024730</td>\n",
       "      <td>0.011713</td>\n",
       "      <td>0.021426</td>\n",
       "      <td>0.028754</td>\n",
       "      <td>0.097468</td>\n",
       "      <td>0.087467</td>\n",
       "      <td>0.125965</td>\n",
       "      <td>1.000000</td>\n",
       "    </tr>\n",
       "  </tbody>\n",
       "</table>\n",
       "</div>"
      ],
      "text/plain": [
       "                                      id   host_id  latitude  longitude  \\\n",
       "id                              1.000000  0.558918  0.004996   0.070697   \n",
       "host_id                         0.558918  1.000000  0.049621   0.108965   \n",
       "latitude                        0.004996  0.049621  1.000000   0.035107   \n",
       "longitude                       0.070697  0.108965  0.035107   1.000000   \n",
       "price                          -0.020739 -0.071772  0.136172  -0.438035   \n",
       "minimum_nights                 -0.057798 -0.130251  0.022289  -0.118921   \n",
       "number_of_reviews              -0.307933 -0.128008 -0.044354   0.079847   \n",
       "reviews_per_month               0.360443  0.267899 -0.023149   0.119089   \n",
       "calculated_host_listings_count  0.135250  0.147273  0.003526   0.063523   \n",
       "availability_365                0.165714  0.173292 -0.006962   0.068899   \n",
       "neighbourhood_group             0.064032  0.100284  0.539251   0.654091   \n",
       "room_type                       0.070261  0.092129  0.117330   0.157505   \n",
       "\n",
       "                                   price  minimum_nights  number_of_reviews  \\\n",
       "id                             -0.020739       -0.057798          -0.307933   \n",
       "host_id                        -0.071772       -0.130251          -0.128008   \n",
       "latitude                        0.136172        0.022289          -0.044354   \n",
       "longitude                      -0.438035       -0.118921           0.079847   \n",
       "price                           1.000000        0.101289          -0.055009   \n",
       "minimum_nights                  0.101289        1.000000          -0.174905   \n",
       "number_of_reviews              -0.055009       -0.174905           1.000000   \n",
       "reviews_per_month              -0.018527       -0.288797           0.706208   \n",
       "calculated_host_listings_count -0.106083        0.064117           0.056054   \n",
       "availability_365                0.086088        0.075981           0.236664   \n",
       "neighbourhood_group             0.018278        0.002962           0.027393   \n",
       "room_type                       0.024730        0.011713           0.021426   \n",
       "\n",
       "                                reviews_per_month  \\\n",
       "id                                       0.360443   \n",
       "host_id                                  0.267899   \n",
       "latitude                                -0.023149   \n",
       "longitude                                0.119089   \n",
       "price                                   -0.018527   \n",
       "minimum_nights                          -0.288797   \n",
       "number_of_reviews                        0.706208   \n",
       "reviews_per_month                        1.000000   \n",
       "calculated_host_listings_count           0.146484   \n",
       "availability_365                         0.392126   \n",
       "neighbourhood_group                      0.047511   \n",
       "room_type                                0.028754   \n",
       "\n",
       "                                calculated_host_listings_count  \\\n",
       "id                                                    0.135250   \n",
       "host_id                                               0.147273   \n",
       "latitude                                              0.003526   \n",
       "longitude                                             0.063523   \n",
       "price                                                -0.106083   \n",
       "minimum_nights                                        0.064117   \n",
       "number_of_reviews                                     0.056054   \n",
       "reviews_per_month                                     0.146484   \n",
       "calculated_host_listings_count                        1.000000   \n",
       "availability_365                                      0.406606   \n",
       "neighbourhood_group                                   0.089015   \n",
       "room_type                                             0.097468   \n",
       "\n",
       "                                availability_365  neighbourhood_group  \\\n",
       "id                                      0.165714             0.064032   \n",
       "host_id                                 0.173292             0.100284   \n",
       "latitude                               -0.006962             0.539251   \n",
       "longitude                               0.068899             0.654091   \n",
       "price                                   0.086088             0.018278   \n",
       "minimum_nights                          0.075981             0.002962   \n",
       "number_of_reviews                       0.236664             0.027393   \n",
       "reviews_per_month                       0.392126             0.047511   \n",
       "calculated_host_listings_count          0.406606             0.089015   \n",
       "availability_365                        1.000000             0.082514   \n",
       "neighbourhood_group                     0.082514             1.000000   \n",
       "room_type                               0.087467             0.125965   \n",
       "\n",
       "                                room_type  \n",
       "id                               0.070261  \n",
       "host_id                          0.092129  \n",
       "latitude                         0.117330  \n",
       "longitude                        0.157505  \n",
       "price                            0.024730  \n",
       "minimum_nights                   0.011713  \n",
       "number_of_reviews                0.021426  \n",
       "reviews_per_month                0.028754  \n",
       "calculated_host_listings_count   0.097468  \n",
       "availability_365                 0.087467  \n",
       "neighbourhood_group              0.125965  \n",
       "room_type                        1.000000  "
      ]
     },
     "metadata": {},
     "output_type": "display_data"
    },
    {
     "data": {
      "application/vnd.jupyter.widget-view+json": {
       "model_id": "6ef447edbead44c283376ba9f63d451b",
       "version_major": 2,
       "version_minor": 0
      },
      "text/plain": [
       "VBox(children=(Tab(children=(Tab(children=(GridBox(children=(VBox(children=(GridspecLayout(children=(HTML(valu…"
      ]
     },
     "metadata": {},
     "output_type": "display_data"
    }
   ],
   "source": [
    "import ydata_profiling\n",
    "\n",
    "profile = ydata_profiling.ProfileReport(df)\n",
    "profile.to_widgets()"
   ]
  },
  {
   "cell_type": "markdown",
   "id": "c09aaf11-9893-4a57-96a1-ec057728fb97",
   "metadata": {},
   "source": [
    "# Preprocessing\n",
    "- The target variable price is set to have values between 10 and 350, all records with prices outside this range are dropped.\n",
    "- The last_review columns is formatted to be of datatime format."
   ]
  },
  {
   "cell_type": "code",
   "execution_count": 3,
   "id": "ceb78ffe-a33f-481f-8a76-c334411a407d",
   "metadata": {},
   "outputs": [],
   "source": [
    "# Drop outliers\n",
    "min_price = 10\n",
    "max_price = 350\n",
    "idx = df['price'].between(min_price, max_price)\n",
    "df = df[idx].copy()\n",
    "# Convert last_review to datetime\n",
    "df['last_review'] = pd.to_datetime(df['last_review'])"
   ]
  },
  {
   "cell_type": "code",
   "execution_count": 4,
   "id": "31954f28-79e2-4e06-be90-7b77691539c8",
   "metadata": {},
   "outputs": [
    {
     "name": "stdout",
     "output_type": "stream",
     "text": [
      "<class 'pandas.core.frame.DataFrame'>\n",
      "Index: 46428 entries, 0 to 48894\n",
      "Data columns (total 16 columns):\n",
      " #   Column                          Non-Null Count  Dtype         \n",
      "---  ------                          --------------  -----         \n",
      " 0   id                              46428 non-null  int64         \n",
      " 1   name                            46413 non-null  object        \n",
      " 2   host_id                         46428 non-null  int64         \n",
      " 3   host_name                       46407 non-null  object        \n",
      " 4   neighbourhood_group             46428 non-null  object        \n",
      " 5   neighbourhood                   46428 non-null  object        \n",
      " 6   latitude                        46428 non-null  float64       \n",
      " 7   longitude                       46428 non-null  float64       \n",
      " 8   room_type                       46428 non-null  object        \n",
      " 9   price                           46428 non-null  int64         \n",
      " 10  minimum_nights                  46428 non-null  int64         \n",
      " 11  number_of_reviews               46428 non-null  int64         \n",
      " 12  last_review                     37246 non-null  datetime64[ns]\n",
      " 13  reviews_per_month               37246 non-null  float64       \n",
      " 14  calculated_host_listings_count  46428 non-null  int64         \n",
      " 15  availability_365                46428 non-null  int64         \n",
      "dtypes: datetime64[ns](1), float64(3), int64(7), object(5)\n",
      "memory usage: 6.0+ MB\n"
     ]
    }
   ],
   "source": [
    "# Sanity Check\n",
    "df.info()"
   ]
  },
  {
   "cell_type": "code",
   "execution_count": 5,
   "id": "6370dcad-6b72-4bfa-82a7-1828ef38b0fd",
   "metadata": {},
   "outputs": [
    {
     "data": {
      "text/html": [
       "Waiting for W&B process to finish... <strong style=\"color:green\">(success).</strong>"
      ],
      "text/plain": [
       "<IPython.core.display.HTML object>"
      ]
     },
     "metadata": {},
     "output_type": "display_data"
    },
    {
     "data": {
      "text/html": [
       " View run <strong style=\"color:#cdcd00\">whole-sun-48</strong> at: <a href='https://wandb.ai/alturkim/nyc_airbnb/runs/0lad7wy2' target=\"_blank\">https://wandb.ai/alturkim/nyc_airbnb/runs/0lad7wy2</a><br/>Synced 7 W&B file(s), 0 media file(s), 7 artifact file(s) and 1 other file(s)"
      ],
      "text/plain": [
       "<IPython.core.display.HTML object>"
      ]
     },
     "metadata": {},
     "output_type": "display_data"
    },
    {
     "data": {
      "text/html": [
       "Find logs at: <code>./wandb/run-20230808_122139-0lad7wy2/logs</code>"
      ],
      "text/plain": [
       "<IPython.core.display.HTML object>"
      ]
     },
     "metadata": {},
     "output_type": "display_data"
    }
   ],
   "source": [
    "# Finishing the wandb run so logs and artifact are synchronized.\n",
    "run.finish()"
   ]
  }
 ],
 "metadata": {
  "kernelspec": {
   "display_name": "Python 3 (ipykernel)",
   "language": "python",
   "name": "python3"
  },
  "language_info": {
   "codemirror_mode": {
    "name": "ipython",
    "version": 3
   },
   "file_extension": ".py",
   "mimetype": "text/x-python",
   "name": "python",
   "nbconvert_exporter": "python",
   "pygments_lexer": "ipython3",
   "version": "3.8.17"
  }
 },
 "nbformat": 4,
 "nbformat_minor": 5
}
